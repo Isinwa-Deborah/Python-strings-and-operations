{
  "nbformat": 4,
  "nbformat_minor": 0,
  "metadata": {
    "colab": {
      "provenance": [],
      "authorship_tag": "ABX9TyPFUSmFRiqhzTuI7f0KtRdq",
      "include_colab_link": true
    },
    "kernelspec": {
      "name": "python3",
      "display_name": "Python 3"
    },
    "language_info": {
      "name": "python"
    }
  },
  "cells": [
    {
      "cell_type": "markdown",
      "metadata": {
        "id": "view-in-github",
        "colab_type": "text"
      },
      "source": [
        "<a href=\"https://colab.research.google.com/github/Isinwa-Deborah/Python-strings-and-operations/blob/main/Strings_and_string_operations.ipynb\" target=\"_parent\"><img src=\"https://colab.research.google.com/assets/colab-badge.svg\" alt=\"Open In Colab\"/></a>"
      ]
    },
    {
      "cell_type": "markdown",
      "source": [
        "# Strings\n",
        "\n",
        "A string can be a combination of spaces and digits using single or doble quotation around the text."
      ],
      "metadata": {
        "id": "thqXyMojCZS4"
      }
    },
    {
      "cell_type": "code",
      "source": [
        "# Print the string\n",
        "\n",
        "print(\"hello!\")"
      ],
      "metadata": {
        "colab": {
          "base_uri": "https://localhost:8080/"
        },
        "id": "xeBdR0i6Cy2y",
        "outputId": "e38af195-f67a-4aba-b6be-a53f126a9cc9"
      },
      "execution_count": 1,
      "outputs": [
        {
          "output_type": "stream",
          "name": "stdout",
          "text": [
            "hello!\n"
          ]
        }
      ]
    },
    {
      "cell_type": "code",
      "source": [
        "# Special characters in string\n",
        "\n",
        "'@#2_#]&*^%$'"
      ],
      "metadata": {
        "colab": {
          "base_uri": "https://localhost:8080/",
          "height": 35
        },
        "id": "tDW8nX88Cz50",
        "outputId": "0a1195b7-a092-4bdc-e53d-9426ff488ae4"
      },
      "execution_count": 2,
      "outputs": [
        {
          "output_type": "execute_result",
          "data": {
            "text/plain": [
              "'@#2_#]&*^%$'"
            ],
            "application/vnd.google.colaboratory.intrinsic+json": {
              "type": "string"
            }
          },
          "metadata": {},
          "execution_count": 2
        }
      ]
    },
    {
      "cell_type": "code",
      "source": [
        "# Digitals and spaces in string\n",
        "\n",
        "'1 2 3 4 5 6 '"
      ],
      "metadata": {
        "colab": {
          "base_uri": "https://localhost:8080/",
          "height": 35
        },
        "id": "ZibpVMwjC3-U",
        "outputId": "0a76cfdd-d090-46c6-a1c9-3e5d47178a32"
      },
      "execution_count": 3,
      "outputs": [
        {
          "output_type": "execute_result",
          "data": {
            "text/plain": [
              "'1 2 3 4 5 6 '"
            ],
            "application/vnd.google.colaboratory.intrinsic+json": {
              "type": "string"
            }
          },
          "metadata": {},
          "execution_count": 3
        }
      ]
    },
    {
      "cell_type": "code",
      "source": [
        "# Use single quotation marks for defining string\n",
        "\n",
        "'Michael Jackson'"
      ],
      "metadata": {
        "colab": {
          "base_uri": "https://localhost:8080/",
          "height": 35
        },
        "id": "6X_Ps54DC7zb",
        "outputId": "eb6372a3-a1b6-42c4-812e-f1afc73d60c2"
      },
      "execution_count": 4,
      "outputs": [
        {
          "output_type": "execute_result",
          "data": {
            "text/plain": [
              "'Michael Jackson'"
            ],
            "application/vnd.google.colaboratory.intrinsic+json": {
              "type": "string"
            }
          },
          "metadata": {},
          "execution_count": 4
        }
      ]
    },
    {
      "cell_type": "code",
      "source": [
        "# Use quotation marks for defining string\n",
        "\n",
        "\"Michael Jackson\""
      ],
      "metadata": {
        "colab": {
          "base_uri": "https://localhost:8080/",
          "height": 35
        },
        "id": "lFUKFpMgDarq",
        "outputId": "63e85bab-85d9-4787-f0d6-ace2cd544dc0"
      },
      "execution_count": 5,
      "outputs": [
        {
          "output_type": "execute_result",
          "data": {
            "text/plain": [
              "'Michael Jackson'"
            ],
            "application/vnd.google.colaboratory.intrinsic+json": {
              "type": "string"
            }
          },
          "metadata": {},
          "execution_count": 5
        }
      ]
    },
    {
      "cell_type": "code",
      "source": [
        "# Assign string to variable\n",
        "\n",
        "name = \"Michael Jackson\"\n",
        "name"
      ],
      "metadata": {
        "colab": {
          "base_uri": "https://localhost:8080/",
          "height": 35
        },
        "id": "16ojNy-2DeM8",
        "outputId": "9dfc0f4d-e7c8-489c-feb8-27a1f563a564"
      },
      "execution_count": 6,
      "outputs": [
        {
          "output_type": "execute_result",
          "data": {
            "text/plain": [
              "'Michael Jackson'"
            ],
            "application/vnd.google.colaboratory.intrinsic+json": {
              "type": "string"
            }
          },
          "metadata": {},
          "execution_count": 6
        }
      ]
    },
    {
      "cell_type": "code",
      "source": [
        "Name = \"Michael Jackson\"\n",
        "\n",
        "# Print the first element in the string\n",
        "\n",
        "print(name[0])"
      ],
      "metadata": {
        "colab": {
          "base_uri": "https://localhost:8080/"
        },
        "id": "7w7HJnoLDn6Y",
        "outputId": "93d43ab8-166f-4120-eb8b-6252427abd71"
      },
      "execution_count": 7,
      "outputs": [
        {
          "output_type": "stream",
          "name": "stdout",
          "text": [
            "M\n"
          ]
        }
      ]
    },
    {
      "cell_type": "code",
      "source": [
        "# Print the element on the 13th index in the string\n",
        "\n",
        "print(name[13])"
      ],
      "metadata": {
        "colab": {
          "base_uri": "https://localhost:8080/"
        },
        "id": "9Q6l6VugKIqw",
        "outputId": "24f39e15-5191-4ee7-cb0e-12d4b4082ff0"
      },
      "execution_count": 8,
      "outputs": [
        {
          "output_type": "stream",
          "name": "stdout",
          "text": [
            "o\n"
          ]
        }
      ]
    },
    {
      "cell_type": "code",
      "source": [
        "# Print the first element in the string\n",
        "\n",
        "print(name[-15])"
      ],
      "metadata": {
        "colab": {
          "base_uri": "https://localhost:8080/"
        },
        "id": "qxckBJeqKOAM",
        "outputId": "03c01469-ce4d-4a2b-da6d-21bd757b78d7"
      },
      "execution_count": 9,
      "outputs": [
        {
          "output_type": "stream",
          "name": "stdout",
          "text": [
            "M\n"
          ]
        }
      ]
    },
    {
      "cell_type": "code",
      "source": [
        "# Print the last element in the string\n",
        "\n",
        "print(name[-1])"
      ],
      "metadata": {
        "colab": {
          "base_uri": "https://localhost:8080/"
        },
        "id": "Ck6gtCjMKTdt",
        "outputId": "cb92518e-b65e-4601-bf74-0ce1277ef157"
      },
      "execution_count": 10,
      "outputs": [
        {
          "output_type": "stream",
          "name": "stdout",
          "text": [
            "n\n"
          ]
        }
      ]
    },
    {
      "cell_type": "code",
      "source": [
        "# Take the slice on variable name with only index 0 to index 3\n",
        "\n",
        "name[0:4]"
      ],
      "metadata": {
        "colab": {
          "base_uri": "https://localhost:8080/",
          "height": 35
        },
        "id": "pryprAphKX5r",
        "outputId": "5c688056-26e3-49ba-e2b2-ece929c609dc"
      },
      "execution_count": 11,
      "outputs": [
        {
          "output_type": "execute_result",
          "data": {
            "text/plain": [
              "'Mich'"
            ],
            "application/vnd.google.colaboratory.intrinsic+json": {
              "type": "string"
            }
          },
          "metadata": {},
          "execution_count": 11
        }
      ]
    },
    {
      "cell_type": "code",
      "source": [
        "# Take the slice on variable name with only index 8 to index 11\n",
        "\n",
        "name[8:12]"
      ],
      "metadata": {
        "colab": {
          "base_uri": "https://localhost:8080/",
          "height": 35
        },
        "id": "hkA2t7kFKmlw",
        "outputId": "5865cdeb-44fd-4d81-dd2c-71c6c885d79c"
      },
      "execution_count": 12,
      "outputs": [
        {
          "output_type": "execute_result",
          "data": {
            "text/plain": [
              "'Jack'"
            ],
            "application/vnd.google.colaboratory.intrinsic+json": {
              "type": "string"
            }
          },
          "metadata": {},
          "execution_count": 12
        }
      ]
    },
    {
      "cell_type": "code",
      "source": [
        "# Get every second element. The elments on index 1, 3, 5 ...\n",
        "\n",
        "name[::2]"
      ],
      "metadata": {
        "colab": {
          "base_uri": "https://localhost:8080/",
          "height": 35
        },
        "id": "_7EuND79KuDq",
        "outputId": "f2a50cae-79fd-49f6-a753-97882b2c30a8"
      },
      "execution_count": 13,
      "outputs": [
        {
          "output_type": "execute_result",
          "data": {
            "text/plain": [
              "'McalJcsn'"
            ],
            "application/vnd.google.colaboratory.intrinsic+json": {
              "type": "string"
            }
          },
          "metadata": {},
          "execution_count": 13
        }
      ]
    },
    {
      "cell_type": "code",
      "source": [
        "# Get every second element in the range from index 0 to index 4\n",
        "\n",
        "name[0:5:2]"
      ],
      "metadata": {
        "colab": {
          "base_uri": "https://localhost:8080/",
          "height": 35
        },
        "id": "FwWXTipeK1E0",
        "outputId": "7b48d5b1-f76f-4d2d-9ac7-959dda47a704"
      },
      "execution_count": 14,
      "outputs": [
        {
          "output_type": "execute_result",
          "data": {
            "text/plain": [
              "'Mca'"
            ],
            "application/vnd.google.colaboratory.intrinsic+json": {
              "type": "string"
            }
          },
          "metadata": {},
          "execution_count": 14
        }
      ]
    },
    {
      "cell_type": "code",
      "source": [
        "# Concatenate two strings\n",
        "\n",
        "statement = name + \"is the best\"\n",
        "statement"
      ],
      "metadata": {
        "colab": {
          "base_uri": "https://localhost:8080/",
          "height": 35
        },
        "id": "RhRYLFaAK9UC",
        "outputId": "f69658c0-6e86-43fe-9fc6-238dded8e017"
      },
      "execution_count": 15,
      "outputs": [
        {
          "output_type": "execute_result",
          "data": {
            "text/plain": [
              "'Michael Jacksonis the best'"
            ],
            "application/vnd.google.colaboratory.intrinsic+json": {
              "type": "string"
            }
          },
          "metadata": {},
          "execution_count": 15
        }
      ]
    },
    {
      "cell_type": "code",
      "source": [
        "# Print the string for 3 times\n",
        "\n",
        "3 * \"Michael Jackson\""
      ],
      "metadata": {
        "colab": {
          "base_uri": "https://localhost:8080/",
          "height": 35
        },
        "id": "J9vMfz2gLDGo",
        "outputId": "55461617-0c64-4625-fab0-0306d244bf69"
      },
      "execution_count": 16,
      "outputs": [
        {
          "output_type": "execute_result",
          "data": {
            "text/plain": [
              "'Michael JacksonMichael JacksonMichael Jackson'"
            ],
            "application/vnd.google.colaboratory.intrinsic+json": {
              "type": "string"
            }
          },
          "metadata": {},
          "execution_count": 16
        }
      ]
    },
    {
      "cell_type": "code",
      "source": [
        "# Concatenate strings\n",
        "\n",
        "name = \"Michael Jackson\"\n",
        "name = name + \" is the best\"\n",
        "name"
      ],
      "metadata": {
        "colab": {
          "base_uri": "https://localhost:8080/",
          "height": 35
        },
        "id": "GRiPGEfjLIjk",
        "outputId": "4c0d4815-e38e-4e4f-81cb-89206b9ae270"
      },
      "execution_count": 17,
      "outputs": [
        {
          "output_type": "execute_result",
          "data": {
            "text/plain": [
              "'Michael Jackson is the best'"
            ],
            "application/vnd.google.colaboratory.intrinsic+json": {
              "type": "string"
            }
          },
          "metadata": {},
          "execution_count": 17
        }
      ]
    },
    {
      "cell_type": "markdown",
      "source": [
        "# Escape Sequences\n",
        "\n",
        "Back slashes represent the beginning of escape sequences. Escape sequences represent strings that may be difficult to input. For example, back slash \"n\" represents a new line. The output is given by a new line after the back slash \"n\" is encountered:"
      ],
      "metadata": {
        "id": "1hQumgjILyO_"
      }
    },
    {
      "cell_type": "code",
      "source": [
        "# New line escape sequence\n",
        "\n",
        "print(\" Michael Jackson \\n is the best\" )"
      ],
      "metadata": {
        "colab": {
          "base_uri": "https://localhost:8080/"
        },
        "id": "98xXko5yMD52",
        "outputId": "9e60e202-37ba-4b46-be17-ed83ee30b800"
      },
      "execution_count": 18,
      "outputs": [
        {
          "output_type": "stream",
          "name": "stdout",
          "text": [
            " Michael Jackson \n",
            " is the best\n"
          ]
        }
      ]
    },
    {
      "cell_type": "code",
      "source": [
        "# Tab escape sequence\n",
        "\n",
        "print(\" Michael Jackson \\t is the best\" )"
      ],
      "metadata": {
        "colab": {
          "base_uri": "https://localhost:8080/"
        },
        "id": "vAZQHg30MOxs",
        "outputId": "31ab132d-1d64-4780-b2a6-a0656dfddf27"
      },
      "execution_count": 19,
      "outputs": [
        {
          "output_type": "stream",
          "name": "stdout",
          "text": [
            " Michael Jackson \t is the best\n"
          ]
        }
      ]
    },
    {
      "cell_type": "code",
      "source": [
        "# Include back slash in string\n",
        "\n",
        "print(\" Michael Jackson \\\\ is the best\" )"
      ],
      "metadata": {
        "colab": {
          "base_uri": "https://localhost:8080/"
        },
        "id": "LVsxpXyUMUZP",
        "outputId": "4796cc44-6b38-4cac-dd4f-6d3437756be4"
      },
      "execution_count": 20,
      "outputs": [
        {
          "output_type": "stream",
          "name": "stdout",
          "text": [
            " Michael Jackson \\ is the best\n"
          ]
        }
      ]
    },
    {
      "cell_type": "code",
      "source": [
        "# r will tell python that string will be display as raw string\n",
        "\n",
        "print(r\" Michael Jackson \\ is the best\" )"
      ],
      "metadata": {
        "colab": {
          "base_uri": "https://localhost:8080/"
        },
        "id": "IE2J4aDSMauc",
        "outputId": "007a23bd-a1d3-41aa-c4f6-48402d533e0f"
      },
      "execution_count": 21,
      "outputs": [
        {
          "output_type": "stream",
          "name": "stdout",
          "text": [
            " Michael Jackson \\ is the best\n"
          ]
        }
      ]
    },
    {
      "cell_type": "markdown",
      "source": [
        "# String Manipulation Operation\n",
        "\n",
        "There are many string operation methods in Python that can be used to manipulate the data. We are going to use some basic string operations on the data."
      ],
      "metadata": {
        "id": "eCgAioSzNMnS"
      }
    },
    {
      "cell_type": "code",
      "source": [
        "# Convert all the characters in string to upper case\n",
        "\n",
        "a = \"Thriller is the sixth studio album\"\n",
        "print(\"before upper:\", a)\n",
        "b = a.upper()\n",
        "print(\"After upper:\", b)"
      ],
      "metadata": {
        "colab": {
          "base_uri": "https://localhost:8080/"
        },
        "id": "LMVQFHaqNXn9",
        "outputId": "461d0050-2d46-4c72-f521-9d6f3c197f83"
      },
      "execution_count": 22,
      "outputs": [
        {
          "output_type": "stream",
          "name": "stdout",
          "text": [
            "before upper: Thriller is the sixth studio album\n",
            "After upper: THRILLER IS THE SIXTH STUDIO ALBUM\n"
          ]
        }
      ]
    },
    {
      "cell_type": "code",
      "source": [
        "# Replace the old substring with the new target substring is the segment has been found in the string\n",
        "\n",
        "a = \"Michael Jackson is the best\"\n",
        "b = a.replace('Michael', 'Janet')\n",
        "b"
      ],
      "metadata": {
        "colab": {
          "base_uri": "https://localhost:8080/",
          "height": 35
        },
        "id": "WBi4BGeQN6NN",
        "outputId": "5559a791-635c-4415-d9ea-ce23464a6e14"
      },
      "execution_count": 23,
      "outputs": [
        {
          "output_type": "execute_result",
          "data": {
            "text/plain": [
              "'Janet Jackson is the best'"
            ],
            "application/vnd.google.colaboratory.intrinsic+json": {
              "type": "string"
            }
          },
          "metadata": {},
          "execution_count": 23
        }
      ]
    },
    {
      "cell_type": "code",
      "source": [
        "# Find the substring in the string. Only the index of the first elment of substring in string will be the output\n",
        "\n",
        "name = \"Michael Jackson\"\n",
        "name.find('el')"
      ],
      "metadata": {
        "colab": {
          "base_uri": "https://localhost:8080/"
        },
        "id": "aiKvpWZtOMCv",
        "outputId": "1ca7b3eb-046a-42b8-9adc-fde7631e7b4c"
      },
      "execution_count": 24,
      "outputs": [
        {
          "output_type": "execute_result",
          "data": {
            "text/plain": [
              "5"
            ]
          },
          "metadata": {},
          "execution_count": 24
        }
      ]
    },
    {
      "cell_type": "code",
      "source": [
        "# Find the substring in the string.\n",
        "\n",
        "name.find('Jack')"
      ],
      "metadata": {
        "colab": {
          "base_uri": "https://localhost:8080/"
        },
        "id": "SAoMFYPJOP-o",
        "outputId": "295c9cc6-e88f-4c25-f26d-0810f8518835"
      },
      "execution_count": 25,
      "outputs": [
        {
          "output_type": "execute_result",
          "data": {
            "text/plain": [
              "8"
            ]
          },
          "metadata": {},
          "execution_count": 25
        }
      ]
    },
    {
      "cell_type": "code",
      "source": [
        "# If cannot find the substring in the string\n",
        "\n",
        "name.find('Jasdfasdasdf')"
      ],
      "metadata": {
        "colab": {
          "base_uri": "https://localhost:8080/"
        },
        "id": "3abG0_zKOTm7",
        "outputId": "f701041d-72ce-458d-d424-3964777ddb6d"
      },
      "execution_count": 26,
      "outputs": [
        {
          "output_type": "execute_result",
          "data": {
            "text/plain": [
              "-1"
            ]
          },
          "metadata": {},
          "execution_count": 26
        }
      ]
    },
    {
      "cell_type": "code",
      "source": [
        "#Split the substring into list\n",
        "name = \"Michael Jackson\"\n",
        "split_string = (name.split())\n",
        "split_string"
      ],
      "metadata": {
        "colab": {
          "base_uri": "https://localhost:8080/"
        },
        "id": "BZd8GgD0OdUy",
        "outputId": "7dbaecac-93ab-4a75-a3d0-136238b4c931"
      },
      "execution_count": 27,
      "outputs": [
        {
          "output_type": "execute_result",
          "data": {
            "text/plain": [
              "['Michael', 'Jackson']"
            ]
          },
          "metadata": {},
          "execution_count": 27
        }
      ]
    },
    {
      "cell_type": "markdown",
      "source": [
        "# RegEx\n",
        "\n",
        "In Python, RegEx (short for Regular Expression) is a tool for matching and handling strings.\n",
        "\n",
        "This RegEx module provides several functions for working with regular expressions, including search, split, findall, and sub.\n",
        "\n",
        "Python provides a built-in module called re, which allows you to work with regular expressions. First, import the re module"
      ],
      "metadata": {
        "id": "00XcMMmIPQsW"
      }
    },
    {
      "cell_type": "code",
      "source": [
        "import re"
      ],
      "metadata": {
        "id": "-YETx7i3PdQQ"
      },
      "execution_count": 28,
      "outputs": []
    },
    {
      "cell_type": "code",
      "source": [
        "s1 = \"Michael Jackson is the best\"\n",
        "\n",
        "# Define the pattern to search for\n",
        "pattern = r\"Jackson\"\n",
        "\n",
        "# Use the search() function to search for the pattern in the string\n",
        "result = re.search(pattern, s1)\n",
        "\n",
        "# Check if a match was found\n",
        "if result:\n",
        "    print(\"Match found!\")\n",
        "else:\n",
        "    print(\"Match not found.\")\n"
      ],
      "metadata": {
        "colab": {
          "base_uri": "https://localhost:8080/"
        },
        "id": "PLLUxnOhPiL3",
        "outputId": "92905c48-63ce-4645-b77c-adab8b23cbbb"
      },
      "execution_count": 29,
      "outputs": [
        {
          "output_type": "stream",
          "name": "stdout",
          "text": [
            "Match found!\n"
          ]
        }
      ]
    },
    {
      "cell_type": "markdown",
      "source": [
        "Regular expressions (RegEx) are patterns used to match and manipulate strings of text. There are several special sequences in RegEx that can be used to match specific characters or patterns.\n",
        "\n",
        "\n",
        "| Special Sequence | Meaning                 | \tExample             |\n",
        "| -----------  | ----------------------- | ----------------------|\n",
        "| \\d|Matches any digit character (0-9)|\"123\" matches \"\\d\\d\\d\"|\n",
        "|\\D|Matches any non-digit character|\"hello\" matches \"\\D\\D\\D\\D\\D\"|\n",
        "|\\w|Matches any word character (a-z, A-Z, 0-9, and _)|\"hello_world\" matches \"\\w\\w\\w\\w\\w\\w\\w\\w\\w\"|\n",
        "|\\W|Matches any non-word character|\t\"@#$%\" matches \"\\W\\W\\W\\W\"|\n",
        "|\\s|Matches any whitespace character (space, tab, newline, etc.)|\"hello world\" matches \"\\w\\s\\w\\w\\w\\w\\w\"|\n",
        "|\\S|Matches any non-whitespace character|\"hello_world\" matches \"\\S\\S\\S\\S\\S\\S\\S\\S\\S\"|\n",
        "|\\b|Matches the boundary between a word character and a non-word character|\"cat\" matches \"\\bcat\\b\" in \"The cat sat on the mat\"|\n",
        "|\\B|Matches any position that is not a word boundary|\"cat\" matches \"\\Bcat\\B\" in \"category\" but not in \"The cat sat on the mat\"|\n"
      ],
      "metadata": {
        "id": "SY3icRl8RvNH"
      }
    },
    {
      "cell_type": "code",
      "source": [
        "pattern = r\"\\d\\d\\d\\d\\d\\d\\d\\d\\d\\d\"  # Matches any ten consecutive digits\n",
        "text = \"My Phone number is 1234567890\"\n",
        "match = re.search(pattern, text)\n",
        "\n",
        "if match:\n",
        "    print(\"Phone number found:\", match.group())\n",
        "else:\n",
        "    print(\"No match\")"
      ],
      "metadata": {
        "colab": {
          "base_uri": "https://localhost:8080/"
        },
        "id": "66LY2wvVR51A",
        "outputId": "51fac87d-fd46-42ba-8185-7ffb79d856eb"
      },
      "execution_count": 30,
      "outputs": [
        {
          "output_type": "stream",
          "name": "stdout",
          "text": [
            "Phone number found: 1234567890\n"
          ]
        }
      ]
    },
    {
      "cell_type": "code",
      "source": [
        "pattern = r\"\\W\"  # Matches any non-word character\n",
        "text = \"Hello, world!\"\n",
        "matches = re.findall(pattern, text)\n",
        "\n",
        "print(\"Matches:\", matches)"
      ],
      "metadata": {
        "colab": {
          "base_uri": "https://localhost:8080/"
        },
        "id": "3JKyIP6QSoQY",
        "outputId": "8623a032-4e64-4b3f-f60a-26c6074168cd"
      },
      "execution_count": 31,
      "outputs": [
        {
          "output_type": "stream",
          "name": "stdout",
          "text": [
            "Matches: [',', ' ', '!']\n"
          ]
        }
      ]
    },
    {
      "cell_type": "code",
      "source": [
        "s2 = \"Michael Jackson was a singer and known as the 'King of Pop'\"\n",
        "\n",
        "\n",
        "# Use the findall() function to find all occurrences of the \"as\" in the string\n",
        "result = re.findall(\"as\", s2)\n",
        "\n",
        "# Print out the list of matched words\n",
        "print(result)\n"
      ],
      "metadata": {
        "colab": {
          "base_uri": "https://localhost:8080/"
        },
        "id": "bWBWVo3KSs2z",
        "outputId": "3b2a4c37-5827-4dbf-8405-d42de478b19f"
      },
      "execution_count": 32,
      "outputs": [
        {
          "output_type": "stream",
          "name": "stdout",
          "text": [
            "['as', 'as']\n"
          ]
        }
      ]
    },
    {
      "cell_type": "code",
      "source": [
        "# Use the split function to split the string by the \"\\s\"\n",
        "split_array = re.split(\"\\s\", s2)\n",
        "\n",
        "# The split_array contains all the substrings, split by whitespace characters\n",
        "print(split_array)"
      ],
      "metadata": {
        "colab": {
          "base_uri": "https://localhost:8080/"
        },
        "id": "60jsH4uBSyxl",
        "outputId": "52a17c43-4191-427e-968e-333ba4115ab5"
      },
      "execution_count": 33,
      "outputs": [
        {
          "output_type": "stream",
          "name": "stdout",
          "text": [
            "['Michael', 'Jackson', 'was', 'a', 'singer', 'and', 'known', 'as', 'the', \"'King\", 'of', \"Pop'\"]\n"
          ]
        }
      ]
    },
    {
      "cell_type": "code",
      "source": [
        "# Define the regular expression pattern to search for\n",
        "pattern = r\"King of Pop\"\n",
        "\n",
        "# Define the replacement string\n",
        "replacement = \"legend\"\n",
        "\n",
        "# Use the sub function to replace the pattern with the replacement string\n",
        "new_string = re.sub(pattern, replacement, s2, flags=re.IGNORECASE)\n",
        "\n",
        "# The new_string contains the original string with the pattern replaced by the replacement string\n",
        "print(new_string)"
      ],
      "metadata": {
        "colab": {
          "base_uri": "https://localhost:8080/"
        },
        "id": "ZPgqpwxQS8ja",
        "outputId": "4c2598bc-3145-44f3-94db-17cdca8300b4"
      },
      "execution_count": 34,
      "outputs": [
        {
          "output_type": "stream",
          "name": "stdout",
          "text": [
            "Michael Jackson was a singer and known as the 'legend'\n"
          ]
        }
      ]
    },
    {
      "cell_type": "code",
      "source": [],
      "metadata": {
        "id": "kqUgF_NSTAqR"
      },
      "execution_count": null,
      "outputs": []
    }
  ]
}